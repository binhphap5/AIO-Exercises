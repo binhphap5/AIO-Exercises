{
 "cells": [
  {
   "cell_type": "markdown",
   "metadata": {},
   "source": [
    "$$f(w_1, w_2) = 0.1w_1^2 + 2w_2^2 \\;\\;\\;\\;\\;\\;\\;(1)$$\n",
    "$$V_t = \\beta_1 V_{t-1} + (1-\\beta_1)dW_t$$\n",
    "$$S_t = \\beta_2 S_{t-1} + (1-\\beta_2)dW_t^2$$\n",
    "$$V_{corr} = \\frac{V_t}{1-\\beta_1^t}$$\n",
    "$$S_{corr} = \\frac{S_t}{1-\\beta_2^t}$$\n",
    "$$W_t = W_t - \\frac{\\alpha}{\\sqrt{S_{corr} + \\epsilon}}*V_{corr}$$"
   ]
  },
  {
   "cell_type": "code",
   "execution_count": 51,
   "metadata": {},
   "outputs": [],
   "source": [
    "import numpy as np"
   ]
  },
  {
   "cell_type": "markdown",
   "metadata": {},
   "source": [
    "## Adam"
   ]
  },
  {
   "cell_type": "code",
   "execution_count": 52,
   "metadata": {},
   "outputs": [],
   "source": [
    "def df_w(W):\n",
    "    \"\"\"\n",
    "    Thực hiện tính gradient của dw1 và dw2\n",
    "    Arguments:\n",
    "    W -- np.array [w1, w2]\n",
    "    Returns:\n",
    "    dW -- np.array [dw1, dw2], array chứa giá trị đạo hàm theo w1 và w2\n",
    "    \"\"\"\n",
    "    #################### YOUR CODE HERE ####################\n",
    "\n",
    "    dw1 = 2*0.1*W[0]\n",
    "    dw2 = 2*2*W[1]\n",
    "\n",
    "    dW = np.array([dw1, dw2])\n",
    "    ########################################################\n",
    "\n",
    "    return dW"
   ]
  },
  {
   "cell_type": "code",
   "execution_count": 53,
   "metadata": {},
   "outputs": [],
   "source": [
    "def Adam(W, dW, lr, V, S, beta1, beta2, t):\n",
    "    \"\"\"\n",
    "    Thực hiện thuật tóan Adam để update w1 và w2\n",
    "    Arguments:\n",
    "    W -- np.array: [w1, w2]\n",
    "    dW -- np.array: [dw1, dw2], array chứa giá trị đạo hàm theo w1 và w2\n",
    "    lr -- float: learning rate\n",
    "    V -- np.array: [v1, v2] Exponentially weighted averages gradients\n",
    "    S -- np.array: [s1, s2] Exponentially weighted averages bình phương gradients\n",
    "    beta1 -- float: hệ số long-range average cho V\n",
    "    beta2 -- float: hệ số long-range average cho S\n",
    "    t -- int: lần thứ t update (bắt đầu bằng 1)\n",
    "    Returns:\n",
    "    W -- np.array: [w1, w2] w1 và w2 sau khi đã update\n",
    "    V -- np.array: [v1, v2] Exponentially weighted averages gradients sau khi đã cập nhật\n",
    "    S -- np.array: [s1, s2] Exponentially weighted averages bình phương gradients sau khi đã cập nhật\n",
    "    \"\"\"\n",
    "    epsilon = 1e-6\n",
    "    #################### YOUR CODE HERE ####################\n",
    "    V = beta1*V + (1-beta1)*dW\n",
    "    S = beta2*S + (1-beta2)*(dW**2)\n",
    "    V_corr = V/(1-beta1**t)\n",
    "    S_corr = S/(1-beta2**t)\n",
    "    W = W - (lr/np.sqrt(S_corr+epsilon)) * V_corr\n",
    "    ########################################################\n",
    "    return W, V, S"
   ]
  },
  {
   "cell_type": "code",
   "execution_count": 55,
   "metadata": {},
   "outputs": [],
   "source": [
    "def train_p1(optimizer, lr, epochs):\n",
    "    \"\"\"\n",
    "    Thực hiện tìm điểm minimum của function (1) dựa vào thuật toán\n",
    "    được truyền vào từ optimizer\n",
    "    Arguments:\n",
    "    optimize : function thực hiện thuật toán optimization cụ thể\n",
    "    lr -- float: learning rate\n",
    "    epochs -- int: số lượng lần (epoch) lặp để tìm điểm minimum\n",
    "    Returns:\n",
    "    results -- list: list các cặp điểm [w1, w2] sau mỗi epoch (mỗi lần cập nhật)\n",
    "    \"\"\"\n",
    "    # initial\n",
    "    W = np.array([-5, -2], dtype=np.float32)\n",
    "    V = np.array([0, 0], dtype=np.float32)\n",
    "    S = np.array([0, 0], dtype=np.float32)\n",
    "    t = 1\n",
    "    results = [W]\n",
    "    #################### YOUR CODE HERE ####################\n",
    "    # Tạo vòng lặp theo số lần epochs\n",
    "    # tìm gradient dW gồm dw1 và dw2\n",
    "    # dùng thuật toán optimization cập nhật w1, w2, s1, s2, v1, v2\n",
    "    # append cặp [w1, w2] vào list results\n",
    "    # các bạn lưu ý mỗi lần lặp nhớ lấy t (lần thứ t lặp) và t bất đầu bằng 1\n",
    "    for epoch in range(epochs):\n",
    "        dW = df_w(W)\n",
    "        W, V, S = optimizer(W, dW, lr, V, S, 0.9, 0.999, t)\n",
    "        print(f\"Epoch {t}: V = {V}, S = {S}\")\n",
    "        t += 1\n",
    "        results.append(W)\n",
    "\n",
    "    ########################################################\n",
    "    return results"
   ]
  },
  {
   "cell_type": "code",
   "execution_count": 56,
   "metadata": {},
   "outputs": [
    {
     "name": "stdout",
     "output_type": "stream",
     "text": [
      "Epoch 1: V = [-0.1 -0.8], S = [0.001 0.064]\n",
      "Epoch 2: V = [-0.186 -1.44 ], S = [0.0019206 0.115776 ]\n",
      "Epoch 3: V = [-0.25940509 -1.93632978], S = [0.00276517 0.15666245]\n",
      "Epoch 4: V = [-0.32148355 -2.30396582], S = [0.00353714 0.18800808]\n",
      "Epoch 5: V = [-0.37338074 -2.55672049], S = [0.00423997 0.21116358]\n",
      "Epoch 6: V = [-0.41613166 -2.70741937], S = [0.00487715 0.22746615]\n",
      "Epoch 7: V = [-0.45067221 -2.7680666 ], S = [0.00545222 0.23822056]\n",
      "Epoch 8: V = [-0.47784932 -2.74999651], S = [0.00596869 0.2446768 ]\n",
      "Epoch 9: V = [-0.4984301  -2.66400784], S = [0.00643011 0.24800464]\n",
      "Epoch 10: V = [-0.51311002 -2.52047471], S = [0.00684    0.24926628]\n",
      "Epoch 11: V = [-0.52252032 -2.32942657], S = [0.00720187 0.24938911]\n",
      "Epoch 12: V = [-0.52723461 -2.10058912], S = [0.00751918 0.2491414 ]\n",
      "Epoch 13: V = [-0.52777483 -1.8433799 ], S = [0.00779536 0.24911458]\n",
      "Epoch 14: V = [-0.52461661 -1.56685716], S = [0.00803377 0.24971527]\n",
      "Epoch 15: V = [-0.51819398 -1.27962787], S = [0.0082377  0.25116971]\n",
      "Epoch 16: V = [-0.5089037  -0.98972822], S = [0.00841033 0.2535409 ]\n",
      "Epoch 17: V = [-0.49710905 -0.70449547], S = [0.00855477 0.25675663]\n",
      "Epoch 18: V = [-0.48314319 -0.43045066], S = [0.00867399 0.26064498]\n",
      "Epoch 19: V = [-0.46731219 -0.17320777], S = [0.00877083 0.26497241]\n",
      "Epoch 20: V = [-0.44989765  0.06258162], S = [0.00884801 0.26948029]\n",
      "Epoch 21: V = [-0.43115907  0.27324673], S = [0.00890807 0.27391638]\n",
      "Epoch 22: V = [-0.41133584  0.45608289], S = [0.00895342 0.27805922]\n",
      "Epoch 23: V = [-0.39064903  0.60931083], S = [0.00898627 0.28173474]\n",
      "Epoch 24: V = [-0.36930293  0.73201777], S = [0.00900868 0.2848253 ]\n",
      "Epoch 25: V = [-0.34748633  0.82408708], S = [0.00902251 0.28727193]\n",
      "Epoch 26: V = [-0.32537365  0.88612188], S = [0.00902946 0.28907105]\n",
      "Epoch 27: V = [-0.30312588  0.91936582], S = [0.00903102 0.29026687]\n",
      "Epoch 28: V = [-0.28089133  0.9256228 ], S = [0.00902851 0.2909408 ]\n",
      "Epoch 29: V = [-0.25880634  0.90717611], S = [0.00902309 0.29119917]\n",
      "Epoch 30: V = [-0.23699576  0.86670671], S = [0.00901572 0.29116046]\n"
     ]
    },
    {
     "data": {
      "text/plain": [
       "[array([-5., -2.], dtype=float32),\n",
       " array([-4.8000001, -1.8      ]),\n",
       " array([-4.60025458, -1.60082446]),\n",
       " array([-4.40094818, -1.40317255]),\n",
       " array([-4.20227724, -1.20787812]),\n",
       " array([-4.00444983, -1.01592732]),\n",
       " array([-3.80768579, -0.82847292]),\n",
       " array([-3.61221664, -0.64684142]),\n",
       " array([-3.41828545, -0.47252746]),\n",
       " array([-3.22614653, -0.30716913]),\n",
       " array([-3.03606497, -0.15249832]),\n",
       " array([-2.84831603, -0.01026302]),\n",
       " array([-2.66318433,  0.11787577]),\n",
       " array([-2.48096283,  0.23046186]),\n",
       " array([-2.30195156,  0.32635894]),\n",
       " array([-2.12645613,  0.40484216]),\n",
       " array([-1.95478597,  0.46564981]),\n",
       " array([-1.7872523 ,  0.50898816]),\n",
       " array([-1.62416583,  0.53549455]),\n",
       " array([-1.46583419,  0.54617153]),\n",
       " array([-1.31255919,  0.54230818]),\n",
       " array([-1.16463376,  0.52540208]),\n",
       " array([-1.02233886,  0.49709058]),\n",
       " array([-0.88594013,  0.45909505]),\n",
       " array([-0.75568468,  0.41317772]),\n",
       " array([-0.63179773,  0.36110878]),\n",
       " array([-0.51447945,  0.30464032]),\n",
       " array([-0.40390206,  0.2454839 ]),\n",
       " array([-0.30020707,  0.18528898]),\n",
       " array([-0.20350296,  0.12562052]),\n",
       " array([-0.11386333,  0.06793506])]"
      ]
     },
     "execution_count": 56,
     "metadata": {},
     "output_type": "execute_result"
    }
   ],
   "source": [
    "result = train_p1(Adam, lr=0.2, epochs=30)\n",
    "result"
   ]
  },
  {
   "cell_type": "code",
   "execution_count": 57,
   "metadata": {},
   "outputs": [
    {
     "data": {
      "text/plain": [
       "0.010526831328532561"
      ]
     },
     "execution_count": 57,
     "metadata": {},
     "output_type": "execute_result"
    }
   ],
   "source": [
    "def compute(W):\n",
    "    return 0.1*W[0]**2 + 2*W[1]**2\n",
    "\n",
    "f = compute(result[30])\n",
    "f"
   ]
  }
 ],
 "metadata": {
  "kernelspec": {
   "display_name": "tf-gpu",
   "language": "python",
   "name": "python3"
  },
  "language_info": {
   "codemirror_mode": {
    "name": "ipython",
    "version": 3
   },
   "file_extension": ".py",
   "mimetype": "text/x-python",
   "name": "python",
   "nbconvert_exporter": "python",
   "pygments_lexer": "ipython3",
   "version": "3.10.11"
  }
 },
 "nbformat": 4,
 "nbformat_minor": 2
}
