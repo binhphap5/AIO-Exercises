{
 "cells": [
  {
   "cell_type": "markdown",
   "metadata": {},
   "source": [
    "$$f(w_1, w_2) = 0.1w_1^2 + 2w_2^2 \\;\\;\\;\\;\\;\\;\\;(1)$$"
   ]
  },
  {
   "cell_type": "code",
   "execution_count": 1,
   "metadata": {},
   "outputs": [],
   "source": [
    "import numpy as np"
   ]
  },
  {
   "cell_type": "code",
   "execution_count": 8,
   "metadata": {},
   "outputs": [],
   "source": [
    "def df_w(W):\n",
    "    \"\"\"\n",
    "    Thực hiện tính gradient của dw1 và dw2\n",
    "    Arguments:\n",
    "    W -- np.array [w1, w2]\n",
    "    Returns:\n",
    "    dW -- np.array [dw1, dw2], array chứa giá trị đạo hàm theo w1 và w2\n",
    "    \"\"\"\n",
    "    #################### YOUR CODE HERE ####################\n",
    "    dw1 = 2*0.1*W[0]\n",
    "    dw2 = 2*2*W[1]\n",
    "    dW = np.array([dw1, dw2])\n",
    "    ########################################################\n",
    "\n",
    "    return dW"
   ]
  },
  {
   "cell_type": "code",
   "execution_count": 9,
   "metadata": {},
   "outputs": [],
   "source": [
    "def sgd(W, dW, lr):\n",
    "    \"\"\"\n",
    "    Thực hiện thuật tóa Gradient Descent để update w1 và w2\n",
    "    Arguments:\n",
    "    W -- np.array: [w1, w2]\n",
    "    dW -- np.array: [dw1, dw2], array chứa giá trị đạo hàm theo w1 và w2\n",
    "    lr -- float: learning rate\n",
    "    Returns:\n",
    "    W -- np.array: [w1, w2] w1 và w2 sau khi đã update\n",
    "    \"\"\"\n",
    "    #################### YOUR CODE HERE ####################\n",
    "\n",
    "\n",
    "    W = W - lr*dW\n",
    "    ########################################################\n",
    "    return W"
   ]
  },
  {
   "cell_type": "code",
   "execution_count": 10,
   "metadata": {},
   "outputs": [],
   "source": [
    "def train_p1(optimizer, lr, epochs):\n",
    "    \"\"\"\n",
    "    Thực hiện tìm điểm minimum của function (1) dựa vào thuật toán\n",
    "    được truyền vào từ optimizer\n",
    "    Arguments:\n",
    "    optimize : function thực hiện thuật toán optimization cụ thể\n",
    "    lr -- float: learning rate\n",
    "    epoch -- int: số lượng lần (epoch) lặp để tìm điểm minimum\n",
    "    Returns:\n",
    "    results -- list: list các cặp điểm [w1, w2] sau mỗi epoch (mỗi lần cập nhật)\n",
    "    \"\"\"\n",
    "\n",
    "    # initial point\n",
    "    W = np.array([-5, -2], dtype=np.float32)\n",
    "    # list of results\n",
    "    results = [W]\n",
    "    #################### YOUR CODE HERE ####################\n",
    "    # Tạo vòng lặp theo số lần epochs\n",
    "    # tìm gradient dW gồm dw1 và dw2\n",
    "    # dùng thuật toán optimization cập nhật w1 và w2\n",
    "    # append cặp [w1, w2] vào list results\n",
    "    for epoch in range(epochs):\n",
    "        dW = df_w(W)\n",
    "        W = optimizer(W, dW, lr)\n",
    "        results.append(W)\n",
    "\n",
    "    ########################################################\n",
    "    return results"
   ]
  },
  {
   "cell_type": "code",
   "execution_count": 11,
   "metadata": {},
   "outputs": [
    {
     "data": {
      "text/plain": [
       "[array([-5., -2.], dtype=float32),\n",
       " array([-4.6,  1.2]),\n",
       " array([-4.232, -0.72 ]),\n",
       " array([-3.89344,  0.432  ]),\n",
       " array([-3.5819648, -0.2592   ]),\n",
       " array([-3.29540762,  0.15552   ]),\n",
       " array([-3.03177501, -0.093312  ]),\n",
       " array([-2.78923301,  0.0559872 ]),\n",
       " array([-2.56609437, -0.03359232]),\n",
       " array([-2.36080682,  0.02015539]),\n",
       " array([-2.17194227, -0.01209324]),\n",
       " array([-1.99818689,  0.00725594]),\n",
       " array([-1.83833194, -0.00435356]),\n",
       " array([-1.69126538,  0.00261214]),\n",
       " array([-1.55596415, -0.00156728]),\n",
       " array([-1.43148702e+00,  9.40369969e-04]),\n",
       " array([-1.31696806e+00, -5.64221981e-04]),\n",
       " array([-1.21161061e+00,  3.38533189e-04]),\n",
       " array([-1.11468176e+00, -2.03119913e-04]),\n",
       " array([-1.02550722e+00,  1.21871948e-04]),\n",
       " array([-9.43466646e-01, -7.31231688e-05]),\n",
       " array([-8.67989314e-01,  4.38739013e-05]),\n",
       " array([-7.98550169e-01, -2.63243408e-05]),\n",
       " array([-7.34666155e-01,  1.57946045e-05]),\n",
       " array([-6.75892863e-01, -9.47676268e-06]),\n",
       " array([-6.21821434e-01,  5.68605761e-06]),\n",
       " array([-5.72075719e-01, -3.41163456e-06]),\n",
       " array([-5.26309662e-01,  2.04698074e-06]),\n",
       " array([-4.84204889e-01, -1.22818844e-06]),\n",
       " array([-4.45468498e-01,  7.36913066e-07]),\n",
       " array([-4.09831018e-01, -4.42147839e-07])]"
      ]
     },
     "execution_count": 11,
     "metadata": {},
     "output_type": "execute_result"
    }
   ],
   "source": [
    "result = train_p1(sgd, lr=0.4, epochs=30)\n",
    "result"
   ]
  },
  {
   "cell_type": "code",
   "execution_count": 27,
   "metadata": {},
   "outputs": [
    {
     "data": {
      "text/plain": [
       "0.0167961463225951"
      ]
     },
     "execution_count": 27,
     "metadata": {},
     "output_type": "execute_result"
    }
   ],
   "source": [
    "def compute(W):\n",
    "    return 0.1*W[0]**2 + 2*W[1]**2\n",
    "\n",
    "f = compute(result[30])\n",
    "f"
   ]
  }
 ],
 "metadata": {
  "kernelspec": {
   "display_name": "tf-gpu",
   "language": "python",
   "name": "python3"
  },
  "language_info": {
   "codemirror_mode": {
    "name": "ipython",
    "version": 3
   },
   "file_extension": ".py",
   "mimetype": "text/x-python",
   "name": "python",
   "nbconvert_exporter": "python",
   "pygments_lexer": "ipython3",
   "version": "3.10.11"
  }
 },
 "nbformat": 4,
 "nbformat_minor": 2
}
