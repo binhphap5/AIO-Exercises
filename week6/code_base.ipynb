{
 "cells": [
  {
   "cell_type": "markdown",
   "metadata": {},
   "source": [
    "# A. Programming"
   ]
  },
  {
   "cell_type": "markdown",
   "metadata": {},
   "source": [
    "## Credit Card Fraud Detection"
   ]
  },
  {
   "cell_type": "code",
   "execution_count": 1,
   "metadata": {},
   "outputs": [],
   "source": [
    "import numpy as np\n",
    "import pandas as pd\n",
    "import matplotlib . pyplot as plt\n",
    "from sklearn . model_selection import train_test_split\n",
    "from sklearn . preprocessing import StandardScaler"
   ]
  },
  {
   "cell_type": "code",
   "execution_count": 6,
   "metadata": {},
   "outputs": [
    {
     "data": {
      "text/html": [
       "<div>\n",
       "<style scoped>\n",
       "    .dataframe tbody tr th:only-of-type {\n",
       "        vertical-align: middle;\n",
       "    }\n",
       "\n",
       "    .dataframe tbody tr th {\n",
       "        vertical-align: top;\n",
       "    }\n",
       "\n",
       "    .dataframe thead th {\n",
       "        text-align: right;\n",
       "    }\n",
       "</style>\n",
       "<table border=\"1\" class=\"dataframe\">\n",
       "  <thead>\n",
       "    <tr style=\"text-align: right;\">\n",
       "      <th></th>\n",
       "      <th>Time</th>\n",
       "      <th>V1</th>\n",
       "      <th>V2</th>\n",
       "      <th>V3</th>\n",
       "      <th>V4</th>\n",
       "      <th>V5</th>\n",
       "      <th>V6</th>\n",
       "      <th>V7</th>\n",
       "      <th>V8</th>\n",
       "      <th>V9</th>\n",
       "      <th>...</th>\n",
       "      <th>V21</th>\n",
       "      <th>V22</th>\n",
       "      <th>V23</th>\n",
       "      <th>V24</th>\n",
       "      <th>V25</th>\n",
       "      <th>V26</th>\n",
       "      <th>V27</th>\n",
       "      <th>V28</th>\n",
       "      <th>Amount</th>\n",
       "      <th>Class</th>\n",
       "    </tr>\n",
       "  </thead>\n",
       "  <tbody>\n",
       "    <tr>\n",
       "      <th>0</th>\n",
       "      <td>0.0</td>\n",
       "      <td>-1.359807</td>\n",
       "      <td>-0.072781</td>\n",
       "      <td>2.536347</td>\n",
       "      <td>1.378155</td>\n",
       "      <td>-0.338321</td>\n",
       "      <td>0.462388</td>\n",
       "      <td>0.239599</td>\n",
       "      <td>0.098698</td>\n",
       "      <td>0.363787</td>\n",
       "      <td>...</td>\n",
       "      <td>-0.018307</td>\n",
       "      <td>0.277838</td>\n",
       "      <td>-0.110474</td>\n",
       "      <td>0.066928</td>\n",
       "      <td>0.128539</td>\n",
       "      <td>-0.189115</td>\n",
       "      <td>0.133558</td>\n",
       "      <td>-0.021053</td>\n",
       "      <td>149.62</td>\n",
       "      <td>0</td>\n",
       "    </tr>\n",
       "    <tr>\n",
       "      <th>1</th>\n",
       "      <td>0.0</td>\n",
       "      <td>1.191857</td>\n",
       "      <td>0.266151</td>\n",
       "      <td>0.166480</td>\n",
       "      <td>0.448154</td>\n",
       "      <td>0.060018</td>\n",
       "      <td>-0.082361</td>\n",
       "      <td>-0.078803</td>\n",
       "      <td>0.085102</td>\n",
       "      <td>-0.255425</td>\n",
       "      <td>...</td>\n",
       "      <td>-0.225775</td>\n",
       "      <td>-0.638672</td>\n",
       "      <td>0.101288</td>\n",
       "      <td>-0.339846</td>\n",
       "      <td>0.167170</td>\n",
       "      <td>0.125895</td>\n",
       "      <td>-0.008983</td>\n",
       "      <td>0.014724</td>\n",
       "      <td>2.69</td>\n",
       "      <td>0</td>\n",
       "    </tr>\n",
       "    <tr>\n",
       "      <th>2</th>\n",
       "      <td>1.0</td>\n",
       "      <td>-1.358354</td>\n",
       "      <td>-1.340163</td>\n",
       "      <td>1.773209</td>\n",
       "      <td>0.379780</td>\n",
       "      <td>-0.503198</td>\n",
       "      <td>1.800499</td>\n",
       "      <td>0.791461</td>\n",
       "      <td>0.247676</td>\n",
       "      <td>-1.514654</td>\n",
       "      <td>...</td>\n",
       "      <td>0.247998</td>\n",
       "      <td>0.771679</td>\n",
       "      <td>0.909412</td>\n",
       "      <td>-0.689281</td>\n",
       "      <td>-0.327642</td>\n",
       "      <td>-0.139097</td>\n",
       "      <td>-0.055353</td>\n",
       "      <td>-0.059752</td>\n",
       "      <td>378.66</td>\n",
       "      <td>0</td>\n",
       "    </tr>\n",
       "    <tr>\n",
       "      <th>3</th>\n",
       "      <td>1.0</td>\n",
       "      <td>-0.966272</td>\n",
       "      <td>-0.185226</td>\n",
       "      <td>1.792993</td>\n",
       "      <td>-0.863291</td>\n",
       "      <td>-0.010309</td>\n",
       "      <td>1.247203</td>\n",
       "      <td>0.237609</td>\n",
       "      <td>0.377436</td>\n",
       "      <td>-1.387024</td>\n",
       "      <td>...</td>\n",
       "      <td>-0.108300</td>\n",
       "      <td>0.005274</td>\n",
       "      <td>-0.190321</td>\n",
       "      <td>-1.175575</td>\n",
       "      <td>0.647376</td>\n",
       "      <td>-0.221929</td>\n",
       "      <td>0.062723</td>\n",
       "      <td>0.061458</td>\n",
       "      <td>123.50</td>\n",
       "      <td>0</td>\n",
       "    </tr>\n",
       "    <tr>\n",
       "      <th>4</th>\n",
       "      <td>2.0</td>\n",
       "      <td>-1.158233</td>\n",
       "      <td>0.877737</td>\n",
       "      <td>1.548718</td>\n",
       "      <td>0.403034</td>\n",
       "      <td>-0.407193</td>\n",
       "      <td>0.095921</td>\n",
       "      <td>0.592941</td>\n",
       "      <td>-0.270533</td>\n",
       "      <td>0.817739</td>\n",
       "      <td>...</td>\n",
       "      <td>-0.009431</td>\n",
       "      <td>0.798278</td>\n",
       "      <td>-0.137458</td>\n",
       "      <td>0.141267</td>\n",
       "      <td>-0.206010</td>\n",
       "      <td>0.502292</td>\n",
       "      <td>0.219422</td>\n",
       "      <td>0.215153</td>\n",
       "      <td>69.99</td>\n",
       "      <td>0</td>\n",
       "    </tr>\n",
       "  </tbody>\n",
       "</table>\n",
       "<p>5 rows × 31 columns</p>\n",
       "</div>"
      ],
      "text/plain": [
       "   Time        V1        V2        V3        V4        V5        V6        V7  \\\n",
       "0   0.0 -1.359807 -0.072781  2.536347  1.378155 -0.338321  0.462388  0.239599   \n",
       "1   0.0  1.191857  0.266151  0.166480  0.448154  0.060018 -0.082361 -0.078803   \n",
       "2   1.0 -1.358354 -1.340163  1.773209  0.379780 -0.503198  1.800499  0.791461   \n",
       "3   1.0 -0.966272 -0.185226  1.792993 -0.863291 -0.010309  1.247203  0.237609   \n",
       "4   2.0 -1.158233  0.877737  1.548718  0.403034 -0.407193  0.095921  0.592941   \n",
       "\n",
       "         V8        V9  ...       V21       V22       V23       V24       V25  \\\n",
       "0  0.098698  0.363787  ... -0.018307  0.277838 -0.110474  0.066928  0.128539   \n",
       "1  0.085102 -0.255425  ... -0.225775 -0.638672  0.101288 -0.339846  0.167170   \n",
       "2  0.247676 -1.514654  ...  0.247998  0.771679  0.909412 -0.689281 -0.327642   \n",
       "3  0.377436 -1.387024  ... -0.108300  0.005274 -0.190321 -1.175575  0.647376   \n",
       "4 -0.270533  0.817739  ... -0.009431  0.798278 -0.137458  0.141267 -0.206010   \n",
       "\n",
       "        V26       V27       V28  Amount  Class  \n",
       "0 -0.189115  0.133558 -0.021053  149.62      0  \n",
       "1  0.125895 -0.008983  0.014724    2.69      0  \n",
       "2 -0.139097 -0.055353 -0.059752  378.66      0  \n",
       "3 -0.221929  0.062723  0.061458  123.50      0  \n",
       "4  0.502292  0.219422  0.215153   69.99      0  \n",
       "\n",
       "[5 rows x 31 columns]"
      ]
     },
     "execution_count": 6,
     "metadata": {},
     "output_type": "execute_result"
    }
   ],
   "source": [
    "dataset_path = 'credit_card\\creditcard.csv'\n",
    "df = pd. read_csv (dataset_path, delimiter = ',')\n",
    "df.head()"
   ]
  },
  {
   "cell_type": "code",
   "execution_count": 8,
   "metadata": {},
   "outputs": [
    {
     "name": "stdout",
     "output_type": "stream",
     "text": [
      "Class\n",
      "0    284315\n",
      "1       492\n",
      "Name: count, dtype: int64\n"
     ]
    }
   ],
   "source": [
    "classnum = pd.Series(df['Class']).value_counts()\n",
    "print(classnum)"
   ]
  },
  {
   "cell_type": "code",
   "execution_count": 14,
   "metadata": {},
   "outputs": [],
   "source": [
    "dataset_arr = df.values\n",
    "X = dataset_arr[:, :-1]\n",
    "y = dataset_arr[:, -1].astype(np.uint8)"
   ]
  },
  {
   "cell_type": "code",
   "execution_count": 16,
   "metadata": {},
   "outputs": [
    {
     "data": {
      "text/plain": [
       "(array([[ 0.00000000e+00, -1.35980713e+00, -7.27811733e-02, ...,\n",
       "          1.33558377e-01, -2.10530535e-02,  1.49620000e+02],\n",
       "        [ 0.00000000e+00,  1.19185711e+00,  2.66150712e-01, ...,\n",
       "         -8.98309914e-03,  1.47241692e-02,  2.69000000e+00],\n",
       "        [ 1.00000000e+00, -1.35835406e+00, -1.34016307e+00, ...,\n",
       "         -5.53527940e-02, -5.97518406e-02,  3.78660000e+02],\n",
       "        ...,\n",
       "        [ 1.72788000e+05,  1.91956501e+00, -3.01253846e-01, ...,\n",
       "          4.45477214e-03, -2.65608286e-02,  6.78800000e+01],\n",
       "        [ 1.72788000e+05, -2.40440050e-01,  5.30482513e-01, ...,\n",
       "          1.08820735e-01,  1.04532821e-01,  1.00000000e+01],\n",
       "        [ 1.72792000e+05, -5.33412522e-01, -1.89733337e-01, ...,\n",
       "         -2.41530880e-03,  1.36489143e-02,  2.17000000e+02]]),\n",
       " array([0, 0, 0, ..., 0, 0, 0], dtype=uint8))"
      ]
     },
     "execution_count": 16,
     "metadata": {},
     "output_type": "execute_result"
    }
   ],
   "source": [
    "X, y"
   ]
  },
  {
   "cell_type": "code",
   "execution_count": 36,
   "metadata": {},
   "outputs": [],
   "source": [
    "interceps = np.ones((X.shape[0], 1))\n",
    "X_b = np.hstack([interceps, X])"
   ]
  },
  {
   "cell_type": "code",
   "execution_count": 38,
   "metadata": {},
   "outputs": [
    {
     "data": {
      "text/plain": [
       "array([[ 1.00000000e+00,  1.00000000e+00,  0.00000000e+00, ...,\n",
       "         1.33558377e-01, -2.10530535e-02,  1.49620000e+02],\n",
       "       [ 1.00000000e+00,  1.00000000e+00,  0.00000000e+00, ...,\n",
       "        -8.98309914e-03,  1.47241692e-02,  2.69000000e+00],\n",
       "       [ 1.00000000e+00,  1.00000000e+00,  1.00000000e+00, ...,\n",
       "        -5.53527940e-02, -5.97518406e-02,  3.78660000e+02],\n",
       "       ...,\n",
       "       [ 1.00000000e+00,  1.00000000e+00,  1.72788000e+05, ...,\n",
       "         4.45477214e-03, -2.65608286e-02,  6.78800000e+01],\n",
       "       [ 1.00000000e+00,  1.00000000e+00,  1.72788000e+05, ...,\n",
       "         1.08820735e-01,  1.04532821e-01,  1.00000000e+01],\n",
       "       [ 1.00000000e+00,  1.00000000e+00,  1.72792000e+05, ...,\n",
       "        -2.41530880e-03,  1.36489143e-02,  2.17000000e+02]])"
      ]
     },
     "execution_count": 38,
     "metadata": {},
     "output_type": "execute_result"
    }
   ],
   "source": [
    "X_b"
   ]
  },
  {
   "cell_type": "code",
   "execution_count": 45,
   "metadata": {},
   "outputs": [
    {
     "name": "stdout",
     "output_type": "stream",
     "text": [
      "[[1. 0.]\n",
      " [1. 0.]\n",
      " [1. 0.]\n",
      " ...\n",
      " [1. 0.]\n",
      " [1. 0.]\n",
      " [1. 0.]]\n"
     ]
    }
   ],
   "source": [
    "n_classes = np.unique(y, axis =0).shape[0]\n",
    "n_samples = y.shape[0]\n",
    "y_encoded = np.array(\n",
    "    [np.zeros(n_classes) for _ in range(n_samples)]\n",
    ")\n",
    "y_encoded[np.arange(n_samples), y] = 1\n",
    "\n",
    "print(y_encoded)"
   ]
  },
  {
   "cell_type": "code",
   "execution_count": 40,
   "metadata": {},
   "outputs": [],
   "source": [
    "val_size = 0.2\n",
    "test_size = 0.125\n",
    "random_state = 2\n",
    "is_shuffle = True\n",
    "\n",
    "X_train, X_val, y_train, y_val = train_test_split(\n",
    "    X_b , y_encoded,\n",
    "    test_size = val_size,\n",
    "    random_state = random_state,\n",
    "    shuffle = is_shuffle\n",
    ")\n",
    "\n",
    "X_train, X_test, y_train, y_test = train_test_split(\n",
    "    X_train , y_train,\n",
    "    test_size = test_size,\n",
    "    random_state = random_state,\n",
    "    shuffle = is_shuffle\n",
    ")"
   ]
  },
  {
   "cell_type": "code",
   "execution_count": 41,
   "metadata": {},
   "outputs": [],
   "source": [
    "normalizer = StandardScaler()\n",
    "X_train[:, 1:] = normalizer.fit_transform(X_train[:, 1:])\n",
    "X_val[:, 1:] = normalizer.transform(X_val[:, 1:])\n",
    "X_test[:, 1:] = normalizer.transform(X_test[:, 1:])"
   ]
  },
  {
   "cell_type": "code",
   "execution_count": 50,
   "metadata": {},
   "outputs": [],
   "source": [
    "def softmax(z):\n",
    "    exp_z = np.exp(z)\n",
    "\n",
    "    return exp_z / exp_z.sum(axis=1)[: , None]\n",
    "\n",
    "def predict (X, theta):\n",
    "    z = np.dot(X, theta)\n",
    "    y_hat = softmax(z)\n",
    "\n",
    "    return y_hat\n",
    "\n",
    "# Cross-entropy loss\n",
    "def compute_loss (y_hat , y) :\n",
    "    n = y.size\n",
    "    y_hat = np.clip(y_hat , 1e-7 , 1 - 1e-7)\n",
    "\n",
    "    return (-1 / n) * np.sum(y * np.log(y_hat))\n",
    "\n",
    "def compute_gradient(X, y, y_hat):\n",
    "    n = y.size\n",
    "\n",
    "    return np.dot(X.T, (y_hat - y)) / n\n",
    "\n",
    "def update_theta (theta, gradient, lr):\n",
    "    return theta - lr * gradient\n",
    "\n",
    "def compute_accuracy (X, y, theta):\n",
    "    y_hat = predict(X, theta)\n",
    "    acc = (np.argmax(y_hat , axis=1) == np.argmax(y, axis=1)).mean()\n",
    "    \n",
    "    return acc"
   ]
  },
  {
   "cell_type": "code",
   "execution_count": 49,
   "metadata": {},
   "outputs": [],
   "source": [
    "lr = 0.01\n",
    "epochs = 30\n",
    "batch_size = 1024\n",
    "n_features = X_train.shape[1]\n",
    "np.random.seed(random_state)\n",
    "theta = np.random.uniform(size =(n_features, n_classes))"
   ]
  },
  {
   "cell_type": "code",
   "execution_count": 51,
   "metadata": {},
   "outputs": [
    {
     "name": "stdout",
     "output_type": "stream",
     "text": [
      "\n",
      "EPOCH 1:\tTraining loss : 0.307\tValidation loss : 0.306\n",
      "\n",
      "EPOCH 2:\tTraining loss : 0.176\tValidation loss : 0.175\n",
      "\n",
      "EPOCH 3:\tTraining loss : 0.114\tValidation loss : 0.113\n",
      "\n",
      "EPOCH 4:\tTraining loss : 0.081\tValidation loss : 0.081\n",
      "\n",
      "EPOCH 5:\tTraining loss : 0.063\tValidation loss : 0.062\n",
      "\n",
      "EPOCH 6:\tTraining loss : 0.050\tValidation loss : 0.050\n",
      "\n",
      "EPOCH 7:\tTraining loss : 0.042\tValidation loss : 0.042\n",
      "\n",
      "EPOCH 8:\tTraining loss : 0.036\tValidation loss : 0.036\n",
      "\n",
      "EPOCH 9:\tTraining loss : 0.032\tValidation loss : 0.031\n",
      "\n",
      "EPOCH 10:\tTraining loss : 0.028\tValidation loss : 0.028\n",
      "\n",
      "EPOCH 11:\tTraining loss : 0.026\tValidation loss : 0.025\n",
      "\n",
      "EPOCH 12:\tTraining loss : 0.023\tValidation loss : 0.023\n",
      "\n",
      "EPOCH 13:\tTraining loss : 0.022\tValidation loss : 0.021\n",
      "\n",
      "EPOCH 14:\tTraining loss : 0.020\tValidation loss : 0.020\n",
      "\n",
      "EPOCH 15:\tTraining loss : 0.019\tValidation loss : 0.018\n",
      "\n",
      "EPOCH 16:\tTraining loss : 0.018\tValidation loss : 0.017\n",
      "\n",
      "EPOCH 17:\tTraining loss : 0.017\tValidation loss : 0.016\n",
      "\n",
      "EPOCH 18:\tTraining loss : 0.016\tValidation loss : 0.015\n",
      "\n",
      "EPOCH 19:\tTraining loss : 0.015\tValidation loss : 0.014\n",
      "\n",
      "EPOCH 20:\tTraining loss : 0.014\tValidation loss : 0.014\n",
      "\n",
      "EPOCH 21:\tTraining loss : 0.014\tValidation loss : 0.013\n",
      "\n",
      "EPOCH 22:\tTraining loss : 0.013\tValidation loss : 0.013\n",
      "\n",
      "EPOCH 23:\tTraining loss : 0.013\tValidation loss : 0.012\n",
      "\n",
      "EPOCH 24:\tTraining loss : 0.012\tValidation loss : 0.012\n",
      "\n",
      "EPOCH 25:\tTraining loss : 0.012\tValidation loss : 0.011\n",
      "\n",
      "EPOCH 26:\tTraining loss : 0.011\tValidation loss : 0.011\n",
      "\n",
      "EPOCH 27:\tTraining loss : 0.011\tValidation loss : 0.011\n",
      "\n",
      "EPOCH 28:\tTraining loss : 0.011\tValidation loss : 0.010\n",
      "\n",
      "EPOCH 29:\tTraining loss : 0.010\tValidation loss : 0.010\n",
      "\n",
      "EPOCH 30:\tTraining loss : 0.010\tValidation loss : 0.010\n"
     ]
    }
   ],
   "source": [
    "# epoch accuracy and loss lists \n",
    "train_accs = []\n",
    "train_losses = []\n",
    "val_accs = []\n",
    "val_losses = []\n",
    "for epoch in range ( epochs ) :\n",
    "    # accuracy and loss lists for each batch in an epoch\n",
    "    train_batch_losses = []\n",
    "    train_batch_accs = []\n",
    "    val_batch_losses = []\n",
    "    val_batch_accs = []\n",
    "\n",
    "    for i in range (0, X_train.shape[0], batch_size) :\n",
    "        # 2d array shape\n",
    "        X_i = X_train[i:i+ batch_size]\n",
    "        # 1d array shape\n",
    "        y_i = y_train[i:i+ batch_size]\n",
    "\n",
    "        # 1d array shape\n",
    "        y_hat = predict(X_i, theta)\n",
    "\n",
    "        # return a number\n",
    "        train_loss = compute_loss(y_hat, y_i)\n",
    "\n",
    "        # return (n_features, n_classes)\n",
    "        gradient = compute_gradient(X_i , y_i, y_hat)\n",
    "\n",
    "        # return (n_features, n_classes)\n",
    "        theta = update_theta(theta, gradient, lr)\n",
    "\n",
    "        # compute losses and accs\n",
    "        train_batch_losses.append(train_loss)\n",
    "        train_acc = compute_accuracy(X_train, y_train, theta)\n",
    "        train_batch_accs.append(train_acc)\n",
    "\n",
    "        y_val_hat = predict(X_val, theta)\n",
    "        val_loss = compute_loss(y_val_hat, y_val)\n",
    "        val_batch_losses.append(val_loss)\n",
    "        val_acc = compute_accuracy(X_val, y_val, theta)\n",
    "        val_batch_accs.append(val_acc)\n",
    "\n",
    "    # After training all batches in an epoch\n",
    "    mean_train_batch_loss = sum ( train_batch_losses ) / len (  train_batch_losses )\n",
    "    mean_val_batch_loss = sum ( val_batch_losses ) / len ( val_batch_losses )\n",
    "    mean_train_batch_acc = sum ( train_batch_accs ) / len ( train_batch_accs )\n",
    "    mean_val_batch_acc = sum ( val_batch_accs ) / len ( val_batch_accs )\n",
    "\n",
    "    train_losses . append ( mean_train_batch_loss )\n",
    "    val_losses . append ( mean_val_batch_loss )\n",
    "    train_accs . append ( mean_train_batch_acc )\n",
    "    val_accs . append ( mean_val_batch_acc )\n",
    "\n",
    "    print(f'\\nEPOCH { epoch + 1}:\\tTraining loss : {mean_train_batch_loss :.3f}\\tValidation loss : {mean_val_batch_loss :.3f}')"
   ]
  },
  {
   "cell_type": "code",
   "execution_count": 54,
   "metadata": {},
   "outputs": [
    {
     "data": {
      "image/png": "[encoded data removed]",
      "text/plain": [
       "<Figure size 1200x1000 with 4 Axes>"
      ]
     },
     "metadata": {},
     "output_type": "display_data"
    }
   ],
   "source": [
    "fig , ax = plt . subplots (2 , 2 , figsize =(12 , 10) )\n",
    "ax [0 , 0]. plot ( train_losses, 'green')\n",
    "ax [0 , 0]. set ( xlabel ='Epoch', ylabel ='Loss')\n",
    "ax [0 , 0]. set_title ('Training Loss')\n",
    "\n",
    "ax [0 , 1]. plot ( val_losses ,'orange')\n",
    "ax [0 , 1]. set ( xlabel ='Epoch', ylabel ='Loss')\n",
    "ax [0 , 1]. set_title ('Validation Loss')\n",
    "\n",
    "ax [1 , 0]. plot ( train_accs, 'green' )\n",
    "ax [1 , 0]. set ( xlabel ='Epoch' , ylabel ='Accuracy')\n",
    "ax [1 , 0]. set_title ('Training Accuracy')\n",
    "\n",
    "ax [1 , 1]. plot ( val_accs , 'orange' )\n",
    "ax [1 , 1]. set ( xlabel ='Epoch' , ylabel ='Accuracy')\n",
    "ax [1 , 1]. set_title ('Validation Accuracy')\n",
    "\n",
    "plt.show()"
   ]
  },
  {
   "cell_type": "code",
   "execution_count": 55,
   "metadata": {},
   "outputs": [
    {
     "name": "stdout",
     "output_type": "stream",
     "text": [
      "Evaluation on validation and test set :\n",
      "Accuracy : 0.9992626663389628\n",
      "Accuracy : 0.9991222218320986\n"
     ]
    }
   ],
   "source": [
    "val_set_acc = compute_accuracy (X_val , y_val , theta )\n",
    "test_set_acc = compute_accuracy (X_test , y_test , theta )\n",
    "print ('Evaluation on validation and test set :')\n",
    "print (f'Accuracy : { val_set_acc }')\n",
    "print (f'Accuracy : { test_set_acc }')"
   ]
  },
  {
   "cell_type": "markdown",
   "metadata": {},
   "source": [
    "## Twitter Sentiment Analysis"
   ]
  },
  {
   "cell_type": "code",
   "execution_count": 56,
   "metadata": {},
   "outputs": [
    {
     "name": "stderr",
     "output_type": "stream",
     "text": [
      "[nltk_data] Downloading package stopwords to\n",
      "[nltk_data]     C:\\Users\\Admin\\AppData\\Roaming\\nltk_data...\n",
      "[nltk_data]   Unzipping corpora\\stopwords.zip.\n"
     ]
    }
   ],
   "source": [
    "import numpy as np\n",
    "import pandas as pd\n",
    "import matplotlib.pyplot as plt\n",
    "import re\n",
    "import nltk\n",
    "nltk.download('stopwords')\n",
    "from sklearn.model_selection import train_test_split\n",
    "from sklearn.feature_extraction.text import TfidfVectorizer\n",
    "from nltk.corpus import stopwords\n",
    "from nltk.stem import SnowballStemmer"
   ]
  },
  {
   "cell_type": "code",
   "execution_count": 58,
   "metadata": {},
   "outputs": [
    {
     "data": {
      "text/html": [
       "<div>\n",
       "<style scoped>\n",
       "    .dataframe tbody tr th:only-of-type {\n",
       "        vertical-align: middle;\n",
       "    }\n",
       "\n",
       "    .dataframe tbody tr th {\n",
       "        vertical-align: top;\n",
       "    }\n",
       "\n",
       "    .dataframe thead th {\n",
       "        text-align: right;\n",
       "    }\n",
       "</style>\n",
       "<table border=\"1\" class=\"dataframe\">\n",
       "  <thead>\n",
       "    <tr style=\"text-align: right;\">\n",
       "      <th></th>\n",
       "      <th>clean_text</th>\n",
       "      <th>category</th>\n",
       "    </tr>\n",
       "  </thead>\n",
       "  <tbody>\n",
       "    <tr>\n",
       "      <th>0</th>\n",
       "      <td>when modi promised “minimum government maximum...</td>\n",
       "      <td>-1.0</td>\n",
       "    </tr>\n",
       "    <tr>\n",
       "      <th>1</th>\n",
       "      <td>talk all the nonsense and continue all the dra...</td>\n",
       "      <td>0.0</td>\n",
       "    </tr>\n",
       "    <tr>\n",
       "      <th>2</th>\n",
       "      <td>what did just say vote for modi  welcome bjp t...</td>\n",
       "      <td>1.0</td>\n",
       "    </tr>\n",
       "    <tr>\n",
       "      <th>3</th>\n",
       "      <td>asking his supporters prefix chowkidar their n...</td>\n",
       "      <td>1.0</td>\n",
       "    </tr>\n",
       "    <tr>\n",
       "      <th>4</th>\n",
       "      <td>answer who among these the most powerful world...</td>\n",
       "      <td>1.0</td>\n",
       "    </tr>\n",
       "  </tbody>\n",
       "</table>\n",
       "</div>"
      ],
      "text/plain": [
       "                                          clean_text  category\n",
       "0  when modi promised “minimum government maximum...      -1.0\n",
       "1  talk all the nonsense and continue all the dra...       0.0\n",
       "2  what did just say vote for modi  welcome bjp t...       1.0\n",
       "3  asking his supporters prefix chowkidar their n...       1.0\n",
       "4  answer who among these the most powerful world...       1.0"
      ]
     },
     "execution_count": 58,
     "metadata": {},
     "output_type": "execute_result"
    }
   ],
   "source": [
    "dataset_path = 'twitter_sentiment\\Twitter_Data.csv'\n",
    "df = pd.read_csv (dataset_path)\n",
    "df.head()"
   ]
  },
  {
   "cell_type": "code",
   "execution_count": 60,
   "metadata": {},
   "outputs": [],
   "source": [
    "df = df. dropna ()"
   ]
  },
  {
   "cell_type": "code",
   "execution_count": 78,
   "metadata": {},
   "outputs": [],
   "source": [
    "def text_normalize ( text ) :\n",
    "    # Retweet old acronym \"RT\" removal\n",
    "    text = re.sub(r'^RT[\\s]+', '', text )\n",
    "    # Hyperlinks removal\n",
    "    text = re.sub(r'https?:\\/\\/.*[\\r\\n]*', '', text )\n",
    "    # Hashtags removal\n",
    "    text = re.sub(r'#', '', text )\n",
    "\n",
    "    # Punctuation removal\n",
    "    text = re.sub (r'[^\\w\\s]', '', text )\n",
    "\n",
    "    # Remove stopwords\n",
    "    stop_words = set(stopwords.words('english'))\n",
    "    words = text.split()\n",
    "    words = [word for word in words if word not in stop_words]\n",
    "    text = ' '.join(words)\n",
    "\n",
    "    # Stemming\n",
    "    stemmer = SnowballStemmer('english')\n",
    "    words = text.split()\n",
    "    words = [stemmer.stem(word) for word in words]\n",
    "    text = ' '.join(words)\n",
    "\n",
    "    return text"
   ]
  },
  {
   "cell_type": "code",
   "execution_count": 79,
   "metadata": {},
   "outputs": [],
   "source": [
    "vectorizer = TfidfVectorizer(max_features=2000)\n",
    "X = vectorizer.fit_transform(df['clean_text']).toarray()"
   ]
  },
  {
   "cell_type": "code",
   "execution_count": 80,
   "metadata": {},
   "outputs": [],
   "source": [
    "interceps = np.ones((X.shape[0], 1))\n",
    "X_b = np.hstack([interceps, X])"
   ]
  },
  {
   "cell_type": "code",
   "execution_count": 81,
   "metadata": {},
   "outputs": [
    {
     "data": {
      "text/plain": [
       "array([[1., 0., 0., ..., 0., 0., 0.],\n",
       "       [1., 0., 0., ..., 0., 0., 0.],\n",
       "       [1., 0., 0., ..., 0., 0., 0.],\n",
       "       [1., 0., 0., ..., 0., 0., 0.],\n",
       "       [1., 0., 0., ..., 0., 0., 0.]])"
      ]
     },
     "execution_count": 81,
     "metadata": {},
     "output_type": "execute_result"
    }
   ],
   "source": [
    "X_b[:5]"
   ]
  },
  {
   "cell_type": "code",
   "execution_count": null,
   "metadata": {},
   "outputs": [
    {
     "ename": "IndexError",
     "evalue": "index 255 is out of bounds for axis 1 with size 3",
     "output_type": "error",
     "traceback": [
      "\u001b[1;31m---------------------------------------------------------------------------\u001b[0m",
      "\u001b[1;31mIndexError\u001b[0m                                Traceback (most recent call last)",
      "Cell \u001b[1;32mIn[87], line 8\u001b[0m\n\u001b[0;32m      4\u001b[0m y \u001b[38;5;241m=\u001b[39m y\u001b[38;5;241m.\u001b[39mastype(np\u001b[38;5;241m.\u001b[39muint8)\n\u001b[0;32m      5\u001b[0m y_encoded \u001b[38;5;241m=\u001b[39m np\u001b[38;5;241m.\u001b[39marray(\n\u001b[0;32m      6\u001b[0m     [np\u001b[38;5;241m.\u001b[39mzeros(n_classes) \u001b[38;5;28;01mfor\u001b[39;00m _ \u001b[38;5;129;01min\u001b[39;00m \u001b[38;5;28mrange\u001b[39m(n_samples)]\n\u001b[0;32m      7\u001b[0m )\n\u001b[1;32m----> 8\u001b[0m \u001b[43my_encoded\u001b[49m\u001b[43m[\u001b[49m\u001b[43mnp\u001b[49m\u001b[38;5;241;43m.\u001b[39;49m\u001b[43marange\u001b[49m\u001b[43m(\u001b[49m\u001b[43mn_samples\u001b[49m\u001b[43m)\u001b[49m\u001b[43m,\u001b[49m\u001b[43m \u001b[49m\u001b[43my\u001b[49m\u001b[43m]\u001b[49m \u001b[38;5;241m=\u001b[39m \u001b[38;5;241m1\u001b[39m\n\u001b[0;32m     10\u001b[0m \u001b[38;5;28mprint\u001b[39m(y_encoded)\n",
      "\u001b[1;31mIndexError\u001b[0m: index 255 is out of bounds for axis 1 with size 3"
     ]
    }
   ],
   "source": [
    "n_classes = df['category'].nunique ()\n",
    "n_samples = df['category'].size\n",
    "y = df['category'].to_numpy() + 1\n",
    "y = y.astype(np.uint8)\n",
    "y_encoded = np.array(\n",
    "    [np.zeros(n_classes) for _ in range(n_samples)]\n",
    ")\n",
    "y_encoded[np.arange(n_samples), y] = 1\n",
    "\n",
    "print(y_encoded)"
   ]
  }
 ],
 "metadata": {
  "kernelspec": {
   "display_name": "tf-gpu",
   "language": "python",
   "name": "python3"
  },
  "language_info": {
   "codemirror_mode": {
    "name": "ipython",
    "version": 3
   },
   "file_extension": ".py",
   "mimetype": "text/x-python",
   "name": "python",
   "nbconvert_exporter": "python",
   "pygments_lexer": "ipython3",
   "version": "3.10.11"
  }
 },
 "nbformat": 4,
 "nbformat_minor": 2
}
